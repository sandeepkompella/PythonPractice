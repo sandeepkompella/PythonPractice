{
 "cells": [
  {
   "cell_type": "code",
   "execution_count": null,
   "metadata": {},
   "outputs": [],
   "source": [
    "import pandas as pd\n",
    "import numpy as np\n",
    "import matplotlib as plt\n",
    "import seaborn as sns"
   ]
  },
  {
   "cell_type": "code",
   "execution_count": null,
   "metadata": {},
   "outputs": [],
   "source": [
    "df = pd.read_csv(\"Movies/Data Files/Uber Drives 2016.csv\")\n",
    "df.shape\n",
    "df.head()\n",
    "df.tail()      "
   ]
  },
  {
   "cell_type": "code",
   "execution_count": null,
   "metadata": {},
   "outputs": [],
   "source": [
    "df.describe()"
   ]
  },
  {
   "cell_type": "code",
   "execution_count": null,
   "metadata": {},
   "outputs": [],
   "source": [
    "#transpose the data\n",
    "dfT = df.transpose()\n",
    "dfT"
   ]
  },
  {
   "cell_type": "code",
   "execution_count": null,
   "metadata": {},
   "outputs": [],
   "source": [
    "df.loc[0:3]"
   ]
  },
  {
   "cell_type": "code",
   "execution_count": null,
   "metadata": {},
   "outputs": [],
   "source": [
    "df.sort_index(axis = 1, ascending=True)"
   ]
  },
  {
   "cell_type": "code",
   "execution_count": null,
   "metadata": {},
   "outputs": [],
   "source": [
    "df.loc[:, ['START*','STOP*']]"
   ]
  },
  {
   "cell_type": "code",
   "execution_count": null,
   "metadata": {},
   "outputs": [],
   "source": [
    "df.fillna(value=\"XXXXX\")"
   ]
  },
  {
   "cell_type": "code",
   "execution_count": null,
   "metadata": {},
   "outputs": [],
   "source": [
    "df.dtypes"
   ]
  },
  {
   "cell_type": "code",
   "execution_count": null,
   "metadata": {},
   "outputs": [],
   "source": [
    "#Display the first 10 records and two columns start_date and STOP\n",
    "df.loc[0:10,['START_DATE*','STOP*' ]]"
   ]
  },
  {
   "cell_type": "code",
   "execution_count": null,
   "metadata": {},
   "outputs": [],
   "source": [
    "#Display start_date and miles if Miles > 10\n",
    "df2 = df.loc[df[\"MILES*\"] > 10, [\"START_DATE*\",\"MILES*\"]]\n",
    "df2"
   ]
  },
  {
   "cell_type": "code",
   "execution_count": null,
   "metadata": {},
   "outputs": [],
   "source": [
    "#Display all the records that originate from Cary or New York\n",
    "CaryOrNY = df[df[\"START*\"].isin([\"Cary\",\"New York\"])]\n",
    "CaryOrNY"
   ]
  },
  {
   "cell_type": "code",
   "execution_count": null,
   "metadata": {},
   "outputs": [],
   "source": [
    "#find all the trips that is more than 10 miles and originate from Cary or Morisville\n",
    "#improvise this with the head and tail\n",
    "CaryOrMorisGT10 = df[(df[\"MILES*\"]) > 10 \n",
    "                     & (df[\"START*\"].isin([\"Cary\", \"Morrisville\"]))].head()\n",
    "CaryOrMorisGT10 = df[(df[\"MILES*\"]) > 10 \n",
    "                     & (df[\"START*\"].isin([\"Cary\", \"Morrisville\"]))].tail()\n",
    "CaryOrMorisGT10"
   ]
  },
  {
   "cell_type": "code",
   "execution_count": null,
   "metadata": {},
   "outputs": [],
   "source": [
    "#reset the index for CaryOrMorisGT10 and print it\n",
    "CaryOrMorisGT10.reset_index(inplace=True,drop=True)\n",
    "CaryOrMorisGT10\n"
   ]
  },
  {
   "cell_type": "code",
   "execution_count": null,
   "metadata": {},
   "outputs": [],
   "source": [
    "#sort the trips by the distance in miles, by ascending order\n",
    "df.sort_values(by=[\"MILES*\"], ascending=True)"
   ]
  },
  {
   "cell_type": "code",
   "execution_count": null,
   "metadata": {},
   "outputs": [],
   "source": [
    "#Conditionally adding Columns\n",
    "df[\"MILES_CAT\"] = np.where(df[\"MILES*\"] > 5, \"Long Trip\", \"Short Trip\")\n",
    "df[\"MILES_CAT\"]"
   ]
  },
  {
   "cell_type": "code",
   "execution_count": null,
   "metadata": {},
   "outputs": [],
   "source": []
  }
 ],
 "metadata": {
  "kernelspec": {
   "display_name": "Python 3",
   "language": "python",
   "name": "python3"
  },
  "language_info": {
   "codemirror_mode": {
    "name": "ipython",
    "version": 3
   },
   "file_extension": ".py",
   "mimetype": "text/x-python",
   "name": "python",
   "nbconvert_exporter": "python",
   "pygments_lexer": "ipython3",
   "version": "3.7.4"
  }
 },
 "nbformat": 4,
 "nbformat_minor": 2
}
