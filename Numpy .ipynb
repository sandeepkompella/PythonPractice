{
 "cells": [
  {
   "cell_type": "code",
   "execution_count": 5,
   "metadata": {},
   "outputs": [
    {
     "data": {
      "text/plain": [
       "array([5., 5., 5.])"
      ]
     },
     "execution_count": 5,
     "metadata": {},
     "output_type": "execute_result"
    }
   ],
   "source": [
    "import pandas as pd\n",
    "import numpy as np\n",
    "\n",
    "#np array's are precompiled. Hence, they are faster than lists\n",
    "distance =[45,50,55]\n",
    "time = [9,10,11]\n",
    "\n",
    "adistance = np.array(distance)\n",
    "atime =np.array(time)\n",
    "speed = adistance/atime\n",
    "\n",
    "speed"
   ]
  },
  {
   "cell_type": "code",
   "execution_count": 13,
   "metadata": {},
   "outputs": [
    {
     "data": {
      "text/plain": [
       "array([ 6,  8, 10, 12, 14])"
      ]
     },
     "execution_count": 13,
     "metadata": {},
     "output_type": "execute_result"
    }
   ],
   "source": [
    "a = [5,6,7,8,9]\n",
    "b=[1,2,3,4,5]\n",
    "#add 5 to each of the list elements in a\n",
    "a = np.array(a)\n",
    "c = a+5\n",
    "c\n",
    "# add elements in a to b\n",
    "b = np.array(b)\n",
    "d=a+b\n",
    "d"
   ]
  },
  {
   "cell_type": "code",
   "execution_count": 18,
   "metadata": {},
   "outputs": [
    {
     "data": {
      "text/plain": [
       "dtype('int64')"
      ]
     },
     "execution_count": 18,
     "metadata": {},
     "output_type": "execute_result"
    }
   ],
   "source": [
    "#find the data type of the array, a\n",
    "a.dtype"
   ]
  },
  {
   "cell_type": "code",
   "execution_count": 26,
   "metadata": {},
   "outputs": [
    {
     "name": "stdout",
     "output_type": "stream",
     "text": [
      "[0 1 2 3 4 5 6 7 8 9]\n",
      "[]\n",
      "[0. 1. 2. 3. 4.]\n",
      "[ 5 10 15 20 25 30 35 40 45 50 55]\n"
     ]
    }
   ],
   "source": [
    "#explore the function arange. It generates a range of numbers for a sequence which can act as a counter\n",
    "e=np.arange(10)\n",
    "print( e)\n",
    "e=np.arange(-3)\n",
    "print( e)\n",
    "e=np.arange(5.0)\n",
    "print( e)\n",
    "e=np.arange(5,56,5) # seed is 5, limit is 56, increment is 5\n",
    "print( e)"
   ]
  },
  {
   "cell_type": "code",
   "execution_count": 30,
   "metadata": {},
   "outputs": [
    {
     "name": "stdout",
     "output_type": "stream",
     "text": [
      "[20.         21.11111111 22.22222222 23.33333333 24.44444444 25.55555556\n",
      " 26.66666667 27.77777778 28.88888889 30.        ]\n"
     ]
    },
    {
     "data": {
      "text/plain": [
       "array([20., 21., 22., 23., 24., 25., 26., 27., 28., 29.])"
      ]
     },
     "execution_count": 30,
     "metadata": {},
     "output_type": "execute_result"
    }
   ],
   "source": [
    "#explore the function linspace. Python for creating numeric sequences. It's somewhat similar to the NumPy arange \n",
    "#function, in that it creates sequences of evenly spaced numbers structured as a NumPy array\n",
    "\n",
    "print(np.linspace(20,30,10))\n",
    "np.linspace(20,30,num=10,endpoint=False) #skips the last number in the sequence"
   ]
  },
  {
   "cell_type": "code",
   "execution_count": 44,
   "metadata": {},
   "outputs": [
    {
     "name": "stdout",
     "output_type": "stream",
     "text": [
      "[  1   2   3   4   5   6   7   8   9  99  88  77  66  55  44  33  22  11\n",
      " 111 112 113 114 115 116]\n",
      "[[  1   2   3]\n",
      " [  4   5   6]\n",
      " [  7   8   9]\n",
      " [ 99  88  77]\n",
      " [ 66  55  44]\n",
      " [ 33  22  11]\n",
      " [111 112 113]\n",
      " [114 115 116]]\n",
      "[[[  1   2   3   4   5   6]\n",
      "  [  7   8   9  99  88  77]]\n",
      "\n",
      " [[ 66  55  44  33  22  11]\n",
      "  [111 112 113 114 115 116]]]\n",
      "[[[[  1   2]\n",
      "   [  3   4]\n",
      "   [  5   6]]\n",
      "\n",
      "  [[  7   8]\n",
      "   [  9  99]\n",
      "   [ 88  77]]]\n",
      "\n",
      "\n",
      " [[[ 66  55]\n",
      "   [ 44  33]\n",
      "   [ 22  11]]\n",
      "\n",
      "  [[111 112]\n",
      "   [113 114]\n",
      "   [115 116]]]]\n"
     ]
    }
   ],
   "source": [
    "data = np.array((1,2,3,4,5,6,7,8,9,99,88,77,66,55,44,33,22,11,111,112,113,114,115,116))\n",
    "print(data)\n",
    "#convert one dimensrional array to two using the reshape function. reshape can be used to \n",
    "#convert to multiple dimensions\n",
    "data = data.reshape(8,3)\n",
    "print(data)\n",
    "data1 = data.reshape(2,2,6)\n",
    "print(data1)\n",
    "data2 = data.reshape(2,2,3,2)\n",
    "print(data2)"
   ]
  },
  {
   "cell_type": "code",
   "execution_count": 47,
   "metadata": {},
   "outputs": [
    {
     "name": "stdout",
     "output_type": "stream",
     "text": [
      "[  2   4   6   8  88  66  44  22 112 114 116]\n"
     ]
    },
    {
     "data": {
      "text/plain": [
       "array([0., 0., 0., 0., 0., 0., 0., 0., 0., 0.])"
      ]
     },
     "execution_count": 47,
     "metadata": {},
     "output_type": "execute_result"
    }
   ],
   "source": [
    "#print the even numbers from the data array\n",
    "even_numbers = (data % 2 == 0)\n",
    "print(data[even_numbers])\n",
    "#print 10 zeros consecutively using zeros\n",
    "np.zeros(10)"
   ]
  },
  {
   "cell_type": "code",
   "execution_count": 48,
   "metadata": {},
   "outputs": [
    {
     "data": {
      "text/plain": [
       "array([[1., 0., 0., 0., 0.],\n",
       "       [0., 1., 0., 0., 0.],\n",
       "       [0., 0., 1., 0., 0.],\n",
       "       [0., 0., 0., 1., 0.],\n",
       "       [0., 0., 0., 0., 1.]])"
      ]
     },
     "execution_count": 48,
     "metadata": {},
     "output_type": "execute_result"
    },
    {
     "name": "stdout",
     "output_type": "stream",
     "text": [
      "The history saving thread hit an unexpected error (OperationalError('database or disk is full')).History will not be written to the database.\n"
     ]
    }
   ],
   "source": [
    "#create an identity matrix for 5 matrix\n",
    "np.eye(5)"
   ]
  },
  {
   "cell_type": "code",
   "execution_count": null,
   "metadata": {},
   "outputs": [],
   "source": []
  }
 ],
 "metadata": {
  "kernelspec": {
   "display_name": "Python 3",
   "language": "python",
   "name": "python3"
  },
  "language_info": {
   "codemirror_mode": {
    "name": "ipython",
    "version": 3
   },
   "file_extension": ".py",
   "mimetype": "text/x-python",
   "name": "python",
   "nbconvert_exporter": "python",
   "pygments_lexer": "ipython3",
   "version": "3.7.4"
  }
 },
 "nbformat": 4,
 "nbformat_minor": 2
}
