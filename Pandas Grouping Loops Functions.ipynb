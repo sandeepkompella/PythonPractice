{
 "cells": [
  {
   "cell_type": "code",
   "execution_count": null,
   "metadata": {},
   "outputs": [],
   "source": [
    "import pandas as pd\n",
    "import numpy as np\n",
    "import matplotlib as plt\n",
    "import seaborn as sns\n",
    "df = pd.read_csv(\"Movies/Data Files/Uber Drives 2016.csv\")\n",
    "#group by start location, and average miles\n",
    "df.groupby(\"START*\")[\"MILES*\"].agg(\"mean\")\n",
    "#group by start, STOP location, and average miles,\n",
    "df.groupby([\"START*\", \"STOP*\"]).agg([\"mean\", \"sum\"])\n",
    "df"
   ]
  },
  {
   "cell_type": "code",
   "execution_count": 49,
   "metadata": {},
   "outputs": [
    {
     "name": "stderr",
     "output_type": "stream",
     "text": [
      "/opt/anaconda3/lib/python3.7/site-packages/ipykernel_launcher.py:1: SettingWithCopyWarning: \n",
      "A value is trying to be set on a copy of a slice from a DataFrame.\n",
      "Try using .loc[row_indexer,col_indexer] = value instead\n",
      "\n",
      "See the caveats in the documentation: http://pandas.pydata.org/pandas-docs/stable/user_guide/indexing.html#returning-a-view-versus-a-copy\n",
      "  \"\"\"Entry point for launching an IPython kernel.\n"
     ]
    },
    {
     "data": {
      "text/html": [
       "<div>\n",
       "<style scoped>\n",
       "    .dataframe tbody tr th:only-of-type {\n",
       "        vertical-align: middle;\n",
       "    }\n",
       "\n",
       "    .dataframe tbody tr th {\n",
       "        vertical-align: top;\n",
       "    }\n",
       "\n",
       "    .dataframe thead th {\n",
       "        text-align: right;\n",
       "    }\n",
       "</style>\n",
       "<table border=\"1\" class=\"dataframe\">\n",
       "  <thead>\n",
       "    <tr style=\"text-align: right;\">\n",
       "      <th></th>\n",
       "      <th>START*</th>\n",
       "      <th>MILES*</th>\n",
       "      <th>START_DATE*</th>\n",
       "    </tr>\n",
       "  </thead>\n",
       "  <tbody>\n",
       "    <tr>\n",
       "      <td>0</td>\n",
       "      <td>Agnew</td>\n",
       "      <td>2.775000</td>\n",
       "      <td>2016-11-04 21:04:00</td>\n",
       "    </tr>\n",
       "    <tr>\n",
       "      <td>1</td>\n",
       "      <td>Almond</td>\n",
       "      <td>15.200000</td>\n",
       "      <td>2016-10-30 12:58:00</td>\n",
       "    </tr>\n",
       "    <tr>\n",
       "      <td>2</td>\n",
       "      <td>Apex</td>\n",
       "      <td>5.341176</td>\n",
       "      <td>2016-01-29 21:21:00</td>\n",
       "    </tr>\n",
       "    <tr>\n",
       "      <td>3</td>\n",
       "      <td>Arabi</td>\n",
       "      <td>17.000000</td>\n",
       "      <td>2016-06-25 10:50:00</td>\n",
       "    </tr>\n",
       "    <tr>\n",
       "      <td>4</td>\n",
       "      <td>Arlington</td>\n",
       "      <td>4.900000</td>\n",
       "      <td>2016-08-02 11:51:00</td>\n",
       "    </tr>\n",
       "    <tr>\n",
       "      <td>...</td>\n",
       "      <td>...</td>\n",
       "      <td>...</td>\n",
       "      <td>...</td>\n",
       "    </tr>\n",
       "    <tr>\n",
       "      <td>170</td>\n",
       "      <td>West University</td>\n",
       "      <td>2.200000</td>\n",
       "      <td>2016-03-10 14:39:00</td>\n",
       "    </tr>\n",
       "    <tr>\n",
       "      <td>171</td>\n",
       "      <td>Weston</td>\n",
       "      <td>4.000000</td>\n",
       "      <td>2016-03-05 12:57:00</td>\n",
       "    </tr>\n",
       "    <tr>\n",
       "      <td>172</td>\n",
       "      <td>Westpark Place</td>\n",
       "      <td>2.182353</td>\n",
       "      <td>2016-02-26 11:05:00</td>\n",
       "    </tr>\n",
       "    <tr>\n",
       "      <td>173</td>\n",
       "      <td>Whitebridge</td>\n",
       "      <td>4.020588</td>\n",
       "      <td>2016-01-19 09:09:00</td>\n",
       "    </tr>\n",
       "    <tr>\n",
       "      <td>174</td>\n",
       "      <td>Winston Salem</td>\n",
       "      <td>133.600000</td>\n",
       "      <td>2016-10-28 18:13:00</td>\n",
       "    </tr>\n",
       "  </tbody>\n",
       "</table>\n",
       "<p>175 rows × 3 columns</p>\n",
       "</div>"
      ],
      "text/plain": [
       "              START*      MILES*         START_DATE*\n",
       "0              Agnew    2.775000 2016-11-04 21:04:00\n",
       "1             Almond   15.200000 2016-10-30 12:58:00\n",
       "2               Apex    5.341176 2016-01-29 21:21:00\n",
       "3              Arabi   17.000000 2016-06-25 10:50:00\n",
       "4          Arlington    4.900000 2016-08-02 11:51:00\n",
       "..               ...         ...                 ...\n",
       "170  West University    2.200000 2016-03-10 14:39:00\n",
       "171           Weston    4.000000 2016-03-05 12:57:00\n",
       "172   Westpark Place    2.182353 2016-02-26 11:05:00\n",
       "173      Whitebridge    4.020588 2016-01-19 09:09:00\n",
       "174    Winston Salem  133.600000 2016-10-28 18:13:00\n",
       "\n",
       "[175 rows x 3 columns]"
      ]
     },
     "execution_count": 49,
     "metadata": {},
     "output_type": "execute_result"
    }
   ],
   "source": [
    "\n",
    "dfSD = df[\"START_DATE*\"] = pd.to_datetime(df[\"START_DATE*\"])\n",
    "res = df.groupby(\"START*\").agg({\"MILES*\": \"mean\", \"START_DATE*\":\"min\"})\n",
    "#reset the index so that the indexes are reset towards the end\n",
    "res.reset_index(inplace=True)\n",
    "res.to_csv(\"Movies/Data Files/res.csv\")\n",
    "res"
   ]
  },
  {
   "cell_type": "code",
   "execution_count": 55,
   "metadata": {},
   "outputs": [
    {
     "data": {
      "text/plain": [
       "[1, 4, 9, 16]"
      ]
     },
     "execution_count": 55,
     "metadata": {},
     "output_type": "execute_result"
    }
   ],
   "source": [
    "res1 = []\n",
    "temp = [1,2,3,4]\n",
    "for i in temp:\n",
    "    res1.append(i*i)\n",
    "res1"
   ]
  },
  {
   "cell_type": "code",
   "execution_count": null,
   "metadata": {},
   "outputs": [],
   "source": []
  }
 ],
 "metadata": {
  "kernelspec": {
   "display_name": "Python 3",
   "language": "python",
   "name": "python3"
  },
  "language_info": {
   "codemirror_mode": {
    "name": "ipython",
    "version": 3
   },
   "file_extension": ".py",
   "mimetype": "text/x-python",
   "name": "python",
   "nbconvert_exporter": "python",
   "pygments_lexer": "ipython3",
   "version": "3.7.4"
  }
 },
 "nbformat": 4,
 "nbformat_minor": 2
}
